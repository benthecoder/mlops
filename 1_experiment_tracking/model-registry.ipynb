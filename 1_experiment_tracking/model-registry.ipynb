{
  "cells": [
    {
      "cell_type": "code",
      "execution_count": 12,
      "metadata": {},
      "outputs": [],
      "source": [
        "from mlflow.tracking import MlflowClient\n",
        "\n",
        "MLFLOW_TRACKING_URI = \"sqlite:///mlflow.db\"\n",
        "\n",
        "import mlflow\n",
        "mlflow.set_tracking_uri(MLFLOW_TRACKING_URI)"
      ]
    },
    {
      "cell_type": "markdown",
      "metadata": {},
      "source": [
        "Interacting with the MLflow tracking server\n",
        "The MlflowClient object allows us to interact with...\n",
        "- an MLflow Tracking Server that creates and manages experiments and runs.\n",
        "- an MLflow Registry Server that creates and manages registered models and model versions.\n",
        "  \n",
        "To instantiate it we need to pass a tracking URI and/or a registry URI"
      ]
    },
    {
      "cell_type": "code",
      "execution_count": 2,
      "metadata": {},
      "outputs": [
        {
          "data": {
            "text/plain": [
              "[<Experiment: artifact_location='./mlruns/0', experiment_id='0', lifecycle_stage='active', name='Default', tags={}>,\n",
              " <Experiment: artifact_location='./mlruns/1', experiment_id='1', lifecycle_stage='active', name='nyc-taxi-experiment', tags={}>]"
            ]
          },
          "execution_count": 2,
          "metadata": {},
          "output_type": "execute_result"
        }
      ],
      "source": [
        "client = MlflowClient(MLFLOW_TRACKING_URI)\n",
        "client.list_experiments()"
      ]
    },
    {
      "cell_type": "code",
      "execution_count": 3,
      "metadata": {},
      "outputs": [
        {
          "data": {
            "text/plain": [
              "'2'"
            ]
          },
          "execution_count": 3,
          "metadata": {},
          "output_type": "execute_result"
        }
      ],
      "source": [
        "client.create_experiment(\"my-cool-experiment\")"
      ]
    },
    {
      "cell_type": "code",
      "execution_count": 10,
      "metadata": {},
      "outputs": [],
      "source": [
        "from mlflow.entities import ViewType\n",
        "\n",
        "runs = client.search_runs(\n",
        "    experiment_ids='1',\n",
        "    filter_string=\"metrics.rmse < 6.8\",\n",
        "    run_view_type=ViewType.ACTIVE_ONLY,\n",
        "    max_results=5,\n",
        "    order_by=[\"metrics.rmse ASC\"],\n",
        ")"
      ]
    },
    {
      "cell_type": "code",
      "execution_count": 11,
      "metadata": {},
      "outputs": [
        {
          "name": "stdout",
          "output_type": "stream",
          "text": [
            "Run ID: 2bc681d8744e4639ad883c9e10cb544c RMSE: 6.396623670205836\n",
            "Run ID: 7bd6482d897e40448bf187dc17e901f3 RMSE: 6.4167028006893165\n",
            "Run ID: 1f6b61b2a90949bca23fdc5acbc0cbc3 RMSE: 6.422102873543081\n",
            "Run ID: ecf6dbc7209042318cc19a4d6a8ac2e9 RMSE: 6.513756891884589\n",
            "Run ID: 06ddfb8faf54444cace30c5d84cb5294 RMSE: 6.523179033040928\n"
          ]
        }
      ],
      "source": [
        "for run in runs:\n",
        "    print(f\"Run ID: {run.info.run_id}\", f\"RMSE: {run.data.metrics['rmse']}\")"
      ]
    },
    {
      "cell_type": "markdown",
      "metadata": {},
      "source": [
        "## Interacting with the Model Registry\n",
        "\n",
        "In this section We will use the MlflowClient instance to:\n",
        "\n",
        "- Register a new version for the experiment nyc-taxi-regressor\n",
        "- Retrieve the latests versions of the model nyc-taxi-regressor and check that a new version 4 was created.\n",
        "\n",
        "Transition the version 4 to \"Staging\" and adding annotations to it."
      ]
    },
    {
      "cell_type": "code",
      "execution_count": 15,
      "metadata": {},
      "outputs": [
        {
          "name": "stderr",
          "output_type": "stream",
          "text": [
            "Registered model 'nyc-taxi-regressor' already exists. Creating a new version of this model...\n",
            "2022/09/30 11:26:37 INFO mlflow.tracking._model_registry.client: Waiting up to 300 seconds for model version to finish creation.                     Model name: nyc-taxi-regressor, version 3\n",
            "Created version '3' of model 'nyc-taxi-regressor'.\n"
          ]
        },
        {
          "data": {
            "text/plain": [
              "<ModelVersion: creation_timestamp=1664555197772, current_stage='None', description=None, last_updated_timestamp=1664555197772, name='nyc-taxi-regressor', run_id='ecf6dbc7209042318cc19a4d6a8ac2e9', run_link=None, source='./mlruns/1/ecf6dbc7209042318cc19a4d6a8ac2e9/artifacts/model', status='READY', status_message=None, tags={}, user_id=None, version=3>"
            ]
          },
          "execution_count": 15,
          "metadata": {},
          "output_type": "execute_result"
        }
      ],
      "source": [
        "run_id = \"ecf6dbc7209042318cc19a4d6a8ac2e9\"\n",
        "model_uri = f\"runs:/{run_id}/model\"\n",
        "\n",
        "mlflow.register_model(model_uri, \"nyc-taxi-regressor\")"
      ]
    },
    {
      "cell_type": "code",
      "execution_count": 24,
      "metadata": {},
      "outputs": [
        {
          "name": "stdout",
          "output_type": "stream",
          "text": [
            "version: 1, stage: Production\n",
            "version: 3, stage: Staging\n",
            "version: 4, stage: None\n"
          ]
        }
      ],
      "source": [
        "model_name = \"nyc-taxi-regressor\"\n",
        "latest_versions = client.get_latest_versions(name=model_name)\n",
        "\n",
        "for version in latest_versions:\n",
        "    print(f\"version: {version.version}, stage: {version.current_stage}\")\n"
      ]
    },
    {
      "cell_type": "code",
      "execution_count": 31,
      "metadata": {},
      "outputs": [
        {
          "data": {
            "text/plain": [
              "<ModelVersion: creation_timestamp=1664554354734, current_stage='Staging', description='This is a model version 1 was transitioned to Staging on 2022-09-30 11:37:20', last_updated_timestamp=1664555878244, name='nyc-taxi-regressor', run_id='ecf6dbc7209042318cc19a4d6a8ac2e9', run_link=None, source='./mlruns/1/ecf6dbc7209042318cc19a4d6a8ac2e9/artifacts/model', status='READY', status_message=None, tags={}, user_id=None, version=1>"
            ]
          },
          "execution_count": 31,
          "metadata": {},
          "output_type": "execute_result"
        }
      ],
      "source": [
        "model_version = 1\n",
        "new_stage = \"Staging\"\n",
        "\n",
        "client.transition_model_version_stage(\n",
        "    name = model_name,\n",
        "    version = model_version,\n",
        "    stage = new_stage,\n",
        "    archive_existing_versions=False\n",
        ")"
      ]
    },
    {
      "cell_type": "code",
      "execution_count": 28,
      "metadata": {},
      "outputs": [
        {
          "data": {
            "text/plain": [
              "<ModelVersion: creation_timestamp=1664554354734, current_stage='Staging', description='This is a model version 1 was transitioned to Staging on 2022-09-30 11:37:20', last_updated_timestamp=1664555840595, name='nyc-taxi-regressor', run_id='ecf6dbc7209042318cc19a4d6a8ac2e9', run_link=None, source='./mlruns/1/ecf6dbc7209042318cc19a4d6a8ac2e9/artifacts/model', status='READY', status_message=None, tags={}, user_id=None, version=1>"
            ]
          },
          "execution_count": 28,
          "metadata": {},
          "output_type": "execute_result"
        }
      ],
      "source": [
        "# add description\n",
        "new_stage = \"Staging\"\n",
        "from datetime import datetime\n",
        "\n",
        "date = datetime.now().strftime(\"%Y-%m-%d %H:%M:%S\")\n",
        "client.update_model_version(\n",
        "    name = model_name,\n",
        "    version = model_version,\n",
        "    description = f\"This is a model version {model_version} was transitioned to {new_stage} on {date}\",\n",
        ")"
      ]
    },
    {
      "cell_type": "markdown",
      "metadata": {},
      "source": [
        "## compare performance and transition to \"Production\""
      ]
    },
    {
      "cell_type": "code",
      "execution_count": 33,
      "metadata": {},
      "outputs": [],
      "source": [
        "from sklearn.metrics import mean_squared_error\n",
        "import pandas as pd\n",
        "\n",
        "\n",
        "def read_dataframe(filename):\n",
        "    df = pd.read_parquet(filename)\n",
        "\n",
        "    df.lpep_dropoff_datetime = pd.to_datetime(df.lpep_dropoff_datetime)\n",
        "    df.lpep_pickup_datetime = pd.to_datetime(df.lpep_pickup_datetime)\n",
        "\n",
        "    df['duration'] = df.lpep_dropoff_datetime - df.lpep_pickup_datetime\n",
        "    df.duration = df.duration.apply(lambda td: td.total_seconds() / 60)\n",
        "\n",
        "    df = df[(df.duration >= 1) & (df.duration <= 60)]\n",
        "\n",
        "    categorical = ['PULocationID', 'DOLocationID']\n",
        "    df[categorical] = df[categorical].astype(str)\n",
        "    \n",
        "    return df\n",
        "\n",
        "\n",
        "def preprocess(df, dv):\n",
        "    df['PU_DO'] = df['PULocationID'] + '_' + df['DOLocationID']\n",
        "    categorical = ['PU_DO']\n",
        "    numerical = ['trip_distance']\n",
        "    train_dicts = df[categorical + numerical].to_dict(orient='records')\n",
        "    return dv.transform(train_dicts)\n",
        "\n",
        "\n",
        "def test_model(name, stage, X_test, y_test):\n",
        "    model = mlflow.pyfunc.load_model(f\"models:/{name}/{stage}\")\n",
        "    y_pred = model.predict(X_test)\n",
        "    return {\"rmse\": mean_squared_error(y_test, y_pred, squared=False)}"
      ]
    },
    {
      "cell_type": "code",
      "execution_count": 34,
      "metadata": {},
      "outputs": [],
      "source": [
        "df = read_dataframe(\"data/green_tripdata_2021-03.parquet\")"
      ]
    },
    {
      "cell_type": "code",
      "execution_count": 37,
      "metadata": {},
      "outputs": [],
      "source": [
        "import pickle\n",
        "\n",
        "with open(\"models/preprocessor.b\", \"rb\") as f_in:\n",
        "    dv = pickle.load(f_in)"
      ]
    },
    {
      "cell_type": "code",
      "execution_count": 38,
      "metadata": {},
      "outputs": [],
      "source": [
        "X_test = preprocess(df, dv)"
      ]
    },
    {
      "cell_type": "code",
      "execution_count": 40,
      "metadata": {},
      "outputs": [],
      "source": [
        "target = \"duration\"\n",
        "y_test = df[target].values"
      ]
    },
    {
      "cell_type": "code",
      "execution_count": 42,
      "metadata": {},
      "outputs": [
        {
          "name": "stdout",
          "output_type": "stream",
          "text": [
            "CPU times: user 78.7 ms, sys: 32.5 ms, total: 111 ms\n",
            "Wall time: 172 ms\n"
          ]
        },
        {
          "data": {
            "text/plain": [
              "{'rmse': 6.490821331307093}"
            ]
          },
          "execution_count": 42,
          "metadata": {},
          "output_type": "execute_result"
        }
      ],
      "source": [
        "%time test_model(name=model_name, stage=\"Production\", X_test=X_test, y_test=y_test)"
      ]
    },
    {
      "cell_type": "code",
      "execution_count": 43,
      "metadata": {},
      "outputs": [
        {
          "name": "stdout",
          "output_type": "stream",
          "text": [
            "[11:47:19] WARNING: /Users/runner/work/xgboost/xgboost/python-package/build/temp.macosx-11.0-arm64-cpython-38/xgboost/src/objective/regression_obj.cu:203: reg:linear is now deprecated in favor of reg:squarederror.\n",
            "CPU times: user 5.1 s, sys: 103 ms, total: 5.2 s\n",
            "Wall time: 1.05 s\n"
          ]
        },
        {
          "data": {
            "text/plain": [
              "{'rmse': 6.482732906034752}"
            ]
          },
          "execution_count": 43,
          "metadata": {},
          "output_type": "execute_result"
        }
      ],
      "source": [
        "%time test_model(name=model_name, stage=\"Staging\", X_test=X_test, y_test=y_test)"
      ]
    },
    {
      "cell_type": "code",
      "execution_count": 45,
      "metadata": {},
      "outputs": [
        {
          "data": {
            "text/plain": [
              "<ModelVersion: creation_timestamp=1664555536365, current_stage='Production', description='', last_updated_timestamp=1664556642384, name='nyc-taxi-regressor', run_id='7d518b2bc56342319a1988fa0f37594e', run_link='', source='./mlruns/1/7d518b2bc56342319a1988fa0f37594e/artifacts/models_mlflow', status='READY', status_message=None, tags={}, user_id=None, version=4>"
            ]
          },
          "execution_count": 45,
          "metadata": {},
          "output_type": "execute_result"
        }
      ],
      "source": [
        "client.transition_model_version_stage(\n",
        "    name = model_name,\n",
        "    version = 4,\n",
        "    stage = \"Production\",\n",
        "    archive_existing_versions=True\n",
        ")"
      ]
    },
    {
      "cell_type": "code",
      "execution_count": null,
      "metadata": {},
      "outputs": [],
      "source": []
    }
  ],
  "metadata": {
    "kernelspec": {
      "display_name": "Python 3.9.13 ('mlops')",
      "language": "python",
      "name": "python3"
    },
    "language_info": {
      "codemirror_mode": {
        "name": "ipython",
        "version": 3
      },
      "file_extension": ".py",
      "mimetype": "text/x-python",
      "name": "python",
      "nbconvert_exporter": "python",
      "pygments_lexer": "ipython3",
      "version": "3.9.13"
    },
    "orig_nbformat": 4,
    "vscode": {
      "interpreter": {
        "hash": "23c841ec8e709f364d6c3427630e7708be40b912a439ab9a14142bca296996f6"
      }
    }
  },
  "nbformat": 4,
  "nbformat_minor": 2
}
