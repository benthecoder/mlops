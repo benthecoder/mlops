{
 "cells": [
  {
   "cell_type": "markdown",
   "metadata": {},
   "source": [
    "## install data\n",
    "\n",
    "source: https://www1.nyc.gov/site/tlc/about/tlc-trip-record-data.page\n",
    "\n",
    "data dictionary: https://www1.nyc.gov/assets/tlc/downloads/pdf/data_dictionary_trip_records_green.pdf"
   ]
  },
  {
   "cell_type": "code",
   "execution_count": 2,
   "metadata": {},
   "outputs": [
    {
     "data": {
      "text/plain": [
       "'data/green_feb_2021.parquet'"
      ]
     },
     "execution_count": 2,
     "metadata": {},
     "output_type": "execute_result"
    }
   ],
   "source": [
    "# !pip install wget\n",
    "import wget\n",
    "import os\n",
    "\n",
    "os.makedirs('data')\n",
    "green_jan_2021 = \"https://d37ci6vzurychx.cloudfront.net/trip-data/green_tripdata_2021-01.parquet\"\n",
    "green_feb_2021 = \"https://d37ci6vzurychx.cloudfront.net/trip-data/green_tripdata_2021-02.parquet\"\n",
    "\n",
    "wget.download(green_jan_2021, \"data/green_jan_2021.parquet\")\n",
    "wget.download(green_feb_2021, \"data/green_feb_2021.parquet\")"
   ]
  },
  {
   "cell_type": "markdown",
   "metadata": {},
   "source": [
    "## libraries"
   ]
  },
  {
   "cell_type": "code",
   "execution_count": 29,
   "metadata": {},
   "outputs": [],
   "source": [
    "import pandas as pd\n",
    "import seaborn as sns\n",
    "import matplotlib.pyplot as plt\n",
    "\n",
    "from sklearn.feature_extraction import DictVectorizer\n",
    "from sklearn.linear_model import LinearRegression, Lasso, Ridge\n",
    "\n",
    "from sklearn.metrics import mean_squared_error\n",
    "\n",
    "import pickle"
   ]
  },
  {
   "cell_type": "markdown",
   "metadata": {},
   "source": [
    "## Read in data"
   ]
  },
  {
   "cell_type": "code",
   "execution_count": 4,
   "metadata": {},
   "outputs": [],
   "source": [
    "# !pip install pyarrow\n",
    "df = pd.read_parquet('data/green_jan_2021.parquet')"
   ]
  },
  {
   "cell_type": "code",
   "execution_count": 5,
   "metadata": {},
   "outputs": [
    {
     "data": {
      "text/html": [
       "<div>\n",
       "<style scoped>\n",
       "    .dataframe tbody tr th:only-of-type {\n",
       "        vertical-align: middle;\n",
       "    }\n",
       "\n",
       "    .dataframe tbody tr th {\n",
       "        vertical-align: top;\n",
       "    }\n",
       "\n",
       "    .dataframe thead th {\n",
       "        text-align: right;\n",
       "    }\n",
       "</style>\n",
       "<table border=\"1\" class=\"dataframe\">\n",
       "  <thead>\n",
       "    <tr style=\"text-align: right;\">\n",
       "      <th></th>\n",
       "      <th>VendorID</th>\n",
       "      <th>lpep_pickup_datetime</th>\n",
       "      <th>lpep_dropoff_datetime</th>\n",
       "      <th>store_and_fwd_flag</th>\n",
       "      <th>RatecodeID</th>\n",
       "      <th>PULocationID</th>\n",
       "      <th>DOLocationID</th>\n",
       "      <th>passenger_count</th>\n",
       "      <th>trip_distance</th>\n",
       "      <th>fare_amount</th>\n",
       "      <th>extra</th>\n",
       "      <th>mta_tax</th>\n",
       "      <th>tip_amount</th>\n",
       "      <th>tolls_amount</th>\n",
       "      <th>ehail_fee</th>\n",
       "      <th>improvement_surcharge</th>\n",
       "      <th>total_amount</th>\n",
       "      <th>payment_type</th>\n",
       "      <th>trip_type</th>\n",
       "      <th>congestion_surcharge</th>\n",
       "    </tr>\n",
       "  </thead>\n",
       "  <tbody>\n",
       "    <tr>\n",
       "      <th>0</th>\n",
       "      <td>2</td>\n",
       "      <td>2021-01-01 00:15:56</td>\n",
       "      <td>2021-01-01 00:19:52</td>\n",
       "      <td>N</td>\n",
       "      <td>1.0</td>\n",
       "      <td>43</td>\n",
       "      <td>151</td>\n",
       "      <td>1.0</td>\n",
       "      <td>1.01</td>\n",
       "      <td>5.50</td>\n",
       "      <td>0.50</td>\n",
       "      <td>0.5</td>\n",
       "      <td>0.00</td>\n",
       "      <td>0.00</td>\n",
       "      <td>None</td>\n",
       "      <td>0.3</td>\n",
       "      <td>6.80</td>\n",
       "      <td>2.0</td>\n",
       "      <td>1.0</td>\n",
       "      <td>0.00</td>\n",
       "    </tr>\n",
       "    <tr>\n",
       "      <th>1</th>\n",
       "      <td>2</td>\n",
       "      <td>2021-01-01 00:25:59</td>\n",
       "      <td>2021-01-01 00:34:44</td>\n",
       "      <td>N</td>\n",
       "      <td>1.0</td>\n",
       "      <td>166</td>\n",
       "      <td>239</td>\n",
       "      <td>1.0</td>\n",
       "      <td>2.53</td>\n",
       "      <td>10.00</td>\n",
       "      <td>0.50</td>\n",
       "      <td>0.5</td>\n",
       "      <td>2.81</td>\n",
       "      <td>0.00</td>\n",
       "      <td>None</td>\n",
       "      <td>0.3</td>\n",
       "      <td>16.86</td>\n",
       "      <td>1.0</td>\n",
       "      <td>1.0</td>\n",
       "      <td>2.75</td>\n",
       "    </tr>\n",
       "    <tr>\n",
       "      <th>2</th>\n",
       "      <td>2</td>\n",
       "      <td>2021-01-01 00:45:57</td>\n",
       "      <td>2021-01-01 00:51:55</td>\n",
       "      <td>N</td>\n",
       "      <td>1.0</td>\n",
       "      <td>41</td>\n",
       "      <td>42</td>\n",
       "      <td>1.0</td>\n",
       "      <td>1.12</td>\n",
       "      <td>6.00</td>\n",
       "      <td>0.50</td>\n",
       "      <td>0.5</td>\n",
       "      <td>1.00</td>\n",
       "      <td>0.00</td>\n",
       "      <td>None</td>\n",
       "      <td>0.3</td>\n",
       "      <td>8.30</td>\n",
       "      <td>1.0</td>\n",
       "      <td>1.0</td>\n",
       "      <td>0.00</td>\n",
       "    </tr>\n",
       "    <tr>\n",
       "      <th>3</th>\n",
       "      <td>2</td>\n",
       "      <td>2020-12-31 23:57:51</td>\n",
       "      <td>2021-01-01 00:04:56</td>\n",
       "      <td>N</td>\n",
       "      <td>1.0</td>\n",
       "      <td>168</td>\n",
       "      <td>75</td>\n",
       "      <td>1.0</td>\n",
       "      <td>1.99</td>\n",
       "      <td>8.00</td>\n",
       "      <td>0.50</td>\n",
       "      <td>0.5</td>\n",
       "      <td>0.00</td>\n",
       "      <td>0.00</td>\n",
       "      <td>None</td>\n",
       "      <td>0.3</td>\n",
       "      <td>9.30</td>\n",
       "      <td>2.0</td>\n",
       "      <td>1.0</td>\n",
       "      <td>0.00</td>\n",
       "    </tr>\n",
       "    <tr>\n",
       "      <th>4</th>\n",
       "      <td>2</td>\n",
       "      <td>2021-01-01 00:16:36</td>\n",
       "      <td>2021-01-01 00:16:40</td>\n",
       "      <td>N</td>\n",
       "      <td>2.0</td>\n",
       "      <td>265</td>\n",
       "      <td>265</td>\n",
       "      <td>3.0</td>\n",
       "      <td>0.00</td>\n",
       "      <td>-52.00</td>\n",
       "      <td>0.00</td>\n",
       "      <td>-0.5</td>\n",
       "      <td>0.00</td>\n",
       "      <td>0.00</td>\n",
       "      <td>None</td>\n",
       "      <td>-0.3</td>\n",
       "      <td>-52.80</td>\n",
       "      <td>3.0</td>\n",
       "      <td>1.0</td>\n",
       "      <td>0.00</td>\n",
       "    </tr>\n",
       "    <tr>\n",
       "      <th>...</th>\n",
       "      <td>...</td>\n",
       "      <td>...</td>\n",
       "      <td>...</td>\n",
       "      <td>...</td>\n",
       "      <td>...</td>\n",
       "      <td>...</td>\n",
       "      <td>...</td>\n",
       "      <td>...</td>\n",
       "      <td>...</td>\n",
       "      <td>...</td>\n",
       "      <td>...</td>\n",
       "      <td>...</td>\n",
       "      <td>...</td>\n",
       "      <td>...</td>\n",
       "      <td>...</td>\n",
       "      <td>...</td>\n",
       "      <td>...</td>\n",
       "      <td>...</td>\n",
       "      <td>...</td>\n",
       "      <td>...</td>\n",
       "    </tr>\n",
       "    <tr>\n",
       "      <th>76513</th>\n",
       "      <td>2</td>\n",
       "      <td>2021-01-31 21:38:00</td>\n",
       "      <td>2021-01-31 22:16:00</td>\n",
       "      <td>None</td>\n",
       "      <td>NaN</td>\n",
       "      <td>81</td>\n",
       "      <td>90</td>\n",
       "      <td>NaN</td>\n",
       "      <td>17.63</td>\n",
       "      <td>56.23</td>\n",
       "      <td>2.75</td>\n",
       "      <td>0.0</td>\n",
       "      <td>0.00</td>\n",
       "      <td>6.12</td>\n",
       "      <td>None</td>\n",
       "      <td>0.3</td>\n",
       "      <td>65.40</td>\n",
       "      <td>NaN</td>\n",
       "      <td>NaN</td>\n",
       "      <td>NaN</td>\n",
       "    </tr>\n",
       "    <tr>\n",
       "      <th>76514</th>\n",
       "      <td>2</td>\n",
       "      <td>2021-01-31 22:43:00</td>\n",
       "      <td>2021-01-31 23:21:00</td>\n",
       "      <td>None</td>\n",
       "      <td>NaN</td>\n",
       "      <td>35</td>\n",
       "      <td>213</td>\n",
       "      <td>NaN</td>\n",
       "      <td>18.36</td>\n",
       "      <td>46.66</td>\n",
       "      <td>0.00</td>\n",
       "      <td>0.0</td>\n",
       "      <td>12.20</td>\n",
       "      <td>6.12</td>\n",
       "      <td>None</td>\n",
       "      <td>0.3</td>\n",
       "      <td>65.28</td>\n",
       "      <td>NaN</td>\n",
       "      <td>NaN</td>\n",
       "      <td>NaN</td>\n",
       "    </tr>\n",
       "    <tr>\n",
       "      <th>76515</th>\n",
       "      <td>2</td>\n",
       "      <td>2021-01-31 22:16:00</td>\n",
       "      <td>2021-01-31 22:27:00</td>\n",
       "      <td>None</td>\n",
       "      <td>NaN</td>\n",
       "      <td>74</td>\n",
       "      <td>69</td>\n",
       "      <td>NaN</td>\n",
       "      <td>2.50</td>\n",
       "      <td>18.95</td>\n",
       "      <td>2.75</td>\n",
       "      <td>0.0</td>\n",
       "      <td>0.00</td>\n",
       "      <td>0.00</td>\n",
       "      <td>None</td>\n",
       "      <td>0.3</td>\n",
       "      <td>22.00</td>\n",
       "      <td>NaN</td>\n",
       "      <td>NaN</td>\n",
       "      <td>NaN</td>\n",
       "    </tr>\n",
       "    <tr>\n",
       "      <th>76516</th>\n",
       "      <td>2</td>\n",
       "      <td>2021-01-31 23:10:00</td>\n",
       "      <td>2021-01-31 23:37:00</td>\n",
       "      <td>None</td>\n",
       "      <td>NaN</td>\n",
       "      <td>168</td>\n",
       "      <td>215</td>\n",
       "      <td>NaN</td>\n",
       "      <td>14.48</td>\n",
       "      <td>48.87</td>\n",
       "      <td>2.75</td>\n",
       "      <td>0.0</td>\n",
       "      <td>0.00</td>\n",
       "      <td>6.12</td>\n",
       "      <td>None</td>\n",
       "      <td>0.3</td>\n",
       "      <td>58.04</td>\n",
       "      <td>NaN</td>\n",
       "      <td>NaN</td>\n",
       "      <td>NaN</td>\n",
       "    </tr>\n",
       "    <tr>\n",
       "      <th>76517</th>\n",
       "      <td>2</td>\n",
       "      <td>2021-01-31 23:25:00</td>\n",
       "      <td>2021-01-31 23:35:00</td>\n",
       "      <td>None</td>\n",
       "      <td>NaN</td>\n",
       "      <td>119</td>\n",
       "      <td>244</td>\n",
       "      <td>NaN</td>\n",
       "      <td>1.81</td>\n",
       "      <td>15.45</td>\n",
       "      <td>2.75</td>\n",
       "      <td>0.0</td>\n",
       "      <td>0.00</td>\n",
       "      <td>0.00</td>\n",
       "      <td>None</td>\n",
       "      <td>0.3</td>\n",
       "      <td>18.50</td>\n",
       "      <td>NaN</td>\n",
       "      <td>NaN</td>\n",
       "      <td>NaN</td>\n",
       "    </tr>\n",
       "  </tbody>\n",
       "</table>\n",
       "<p>76518 rows × 20 columns</p>\n",
       "</div>"
      ],
      "text/plain": [
       "       VendorID lpep_pickup_datetime lpep_dropoff_datetime store_and_fwd_flag  \\\n",
       "0             2  2021-01-01 00:15:56   2021-01-01 00:19:52                  N   \n",
       "1             2  2021-01-01 00:25:59   2021-01-01 00:34:44                  N   \n",
       "2             2  2021-01-01 00:45:57   2021-01-01 00:51:55                  N   \n",
       "3             2  2020-12-31 23:57:51   2021-01-01 00:04:56                  N   \n",
       "4             2  2021-01-01 00:16:36   2021-01-01 00:16:40                  N   \n",
       "...         ...                  ...                   ...                ...   \n",
       "76513         2  2021-01-31 21:38:00   2021-01-31 22:16:00               None   \n",
       "76514         2  2021-01-31 22:43:00   2021-01-31 23:21:00               None   \n",
       "76515         2  2021-01-31 22:16:00   2021-01-31 22:27:00               None   \n",
       "76516         2  2021-01-31 23:10:00   2021-01-31 23:37:00               None   \n",
       "76517         2  2021-01-31 23:25:00   2021-01-31 23:35:00               None   \n",
       "\n",
       "       RatecodeID  PULocationID  DOLocationID  passenger_count  trip_distance  \\\n",
       "0             1.0            43           151              1.0           1.01   \n",
       "1             1.0           166           239              1.0           2.53   \n",
       "2             1.0            41            42              1.0           1.12   \n",
       "3             1.0           168            75              1.0           1.99   \n",
       "4             2.0           265           265              3.0           0.00   \n",
       "...           ...           ...           ...              ...            ...   \n",
       "76513         NaN            81            90              NaN          17.63   \n",
       "76514         NaN            35           213              NaN          18.36   \n",
       "76515         NaN            74            69              NaN           2.50   \n",
       "76516         NaN           168           215              NaN          14.48   \n",
       "76517         NaN           119           244              NaN           1.81   \n",
       "\n",
       "       fare_amount  extra  mta_tax  tip_amount  tolls_amount ehail_fee  \\\n",
       "0             5.50   0.50      0.5        0.00          0.00      None   \n",
       "1            10.00   0.50      0.5        2.81          0.00      None   \n",
       "2             6.00   0.50      0.5        1.00          0.00      None   \n",
       "3             8.00   0.50      0.5        0.00          0.00      None   \n",
       "4           -52.00   0.00     -0.5        0.00          0.00      None   \n",
       "...            ...    ...      ...         ...           ...       ...   \n",
       "76513        56.23   2.75      0.0        0.00          6.12      None   \n",
       "76514        46.66   0.00      0.0       12.20          6.12      None   \n",
       "76515        18.95   2.75      0.0        0.00          0.00      None   \n",
       "76516        48.87   2.75      0.0        0.00          6.12      None   \n",
       "76517        15.45   2.75      0.0        0.00          0.00      None   \n",
       "\n",
       "       improvement_surcharge  total_amount  payment_type  trip_type  \\\n",
       "0                        0.3          6.80           2.0        1.0   \n",
       "1                        0.3         16.86           1.0        1.0   \n",
       "2                        0.3          8.30           1.0        1.0   \n",
       "3                        0.3          9.30           2.0        1.0   \n",
       "4                       -0.3        -52.80           3.0        1.0   \n",
       "...                      ...           ...           ...        ...   \n",
       "76513                    0.3         65.40           NaN        NaN   \n",
       "76514                    0.3         65.28           NaN        NaN   \n",
       "76515                    0.3         22.00           NaN        NaN   \n",
       "76516                    0.3         58.04           NaN        NaN   \n",
       "76517                    0.3         18.50           NaN        NaN   \n",
       "\n",
       "       congestion_surcharge  \n",
       "0                      0.00  \n",
       "1                      2.75  \n",
       "2                      0.00  \n",
       "3                      0.00  \n",
       "4                      0.00  \n",
       "...                     ...  \n",
       "76513                   NaN  \n",
       "76514                   NaN  \n",
       "76515                   NaN  \n",
       "76516                   NaN  \n",
       "76517                   NaN  \n",
       "\n",
       "[76518 rows x 20 columns]"
      ]
     },
     "execution_count": 5,
     "metadata": {},
     "output_type": "execute_result"
    }
   ],
   "source": [
    "df"
   ]
  },
  {
   "cell_type": "markdown",
   "metadata": {},
   "source": [
    "## Preprocessing"
   ]
  },
  {
   "cell_type": "code",
   "execution_count": 6,
   "metadata": {},
   "outputs": [],
   "source": [
    "# parse dates\n",
    "df.lpep_dropoff_datetime = pd.to_datetime(df.lpep_dropoff_datetime)\n",
    "df.lpep_pickup_datetime = pd.to_datetime(df.lpep_pickup_datetime)"
   ]
  },
  {
   "cell_type": "markdown",
   "metadata": {},
   "source": [
    "### Calculate Trip duration"
   ]
  },
  {
   "cell_type": "code",
   "execution_count": 7,
   "metadata": {},
   "outputs": [],
   "source": [
    "# get trip duration\n",
    "df['duration'] = df.lpep_dropoff_datetime - df.lpep_pickup_datetime\n",
    "\n",
    "# convert to minutes\n",
    "df.duration = df.duration.apply(lambda x : x.total_seconds() / 60)"
   ]
  },
  {
   "cell_type": "markdown",
   "metadata": {},
   "source": [
    "### duration distribution"
   ]
  },
  {
   "cell_type": "code",
   "execution_count": 8,
   "metadata": {},
   "outputs": [
    {
     "data": {
      "text/plain": [
       "count    76518.000000\n",
       "mean        19.927896\n",
       "std         59.338594\n",
       "min          0.000000\n",
       "25%          8.000000\n",
       "50%         13.883333\n",
       "75%         23.000000\n",
       "max       1439.600000\n",
       "Name: duration, dtype: float64"
      ]
     },
     "execution_count": 8,
     "metadata": {},
     "output_type": "execute_result"
    }
   ],
   "source": [
    "df.duration.describe()"
   ]
  },
  {
   "cell_type": "code",
   "execution_count": 9,
   "metadata": {},
   "outputs": [
    {
     "data": {
      "text/plain": [
       "count    76518.000000\n",
       "mean        19.927896\n",
       "std         59.338594\n",
       "min          0.000000\n",
       "50%         13.883333\n",
       "95%         44.000000\n",
       "98%         56.000000\n",
       "99%         67.158167\n",
       "max       1439.600000\n",
       "Name: duration, dtype: float64"
      ]
     },
     "execution_count": 9,
     "metadata": {},
     "output_type": "execute_result"
    }
   ],
   "source": [
    "df.duration.describe(percentiles = [0.95, 0.98, 0.99])"
   ]
  },
  {
   "cell_type": "code",
   "execution_count": 10,
   "metadata": {},
   "outputs": [],
   "source": [
    "# filter duration \n",
    "df = df.loc[(df.duration >= 1) & (df.duration <= 60)]"
   ]
  },
  {
   "cell_type": "markdown",
   "metadata": {},
   "source": [
    "## Feature selection"
   ]
  },
  {
   "cell_type": "code",
   "execution_count": 11,
   "metadata": {},
   "outputs": [],
   "source": [
    "# filter necessary columns\n",
    "\n",
    "cat = ['PULocationID', 'DOLocationID']\n",
    "num = ['trip_distance']"
   ]
  },
  {
   "cell_type": "markdown",
   "metadata": {},
   "source": [
    "### Dictionary vectorizer"
   ]
  },
  {
   "cell_type": "code",
   "execution_count": 13,
   "metadata": {},
   "outputs": [
    {
     "name": "stderr",
     "output_type": "stream",
     "text": [
      "/tmp/ipykernel_5114/4114848577.py:2: SettingWithCopyWarning: \n",
      "A value is trying to be set on a copy of a slice from a DataFrame.\n",
      "Try using .loc[row_indexer,col_indexer] = value instead\n",
      "\n",
      "See the caveats in the documentation: https://pandas.pydata.org/pandas-docs/stable/user_guide/indexing.html#returning-a-view-versus-a-copy\n",
      "  df[cat] = df[cat].astype(str)\n"
     ]
    }
   ],
   "source": [
    "# turn categorical to object type first\n",
    "df[cat] = df[cat].astype(str)"
   ]
  },
  {
   "cell_type": "code",
   "execution_count": 14,
   "metadata": {},
   "outputs": [
    {
     "data": {
      "text/plain": [
       "[{'PULocationID': '43', 'DOLocationID': '151', 'trip_distance': 1.01},\n",
       " {'PULocationID': '166', 'DOLocationID': '239', 'trip_distance': 2.53},\n",
       " {'PULocationID': '41', 'DOLocationID': '42', 'trip_distance': 1.12},\n",
       " {'PULocationID': '168', 'DOLocationID': '75', 'trip_distance': 1.99},\n",
       " {'PULocationID': '75', 'DOLocationID': '75', 'trip_distance': 0.45},\n",
       " {'PULocationID': '225', 'DOLocationID': '265', 'trip_distance': 12.19},\n",
       " {'PULocationID': '244', 'DOLocationID': '244', 'trip_distance': 3.39},\n",
       " {'PULocationID': '75', 'DOLocationID': '213', 'trip_distance': 6.69},\n",
       " {'PULocationID': '74', 'DOLocationID': '238', 'trip_distance': 2.34},\n",
       " {'PULocationID': '74', 'DOLocationID': '60', 'trip_distance': 5.48}]"
      ]
     },
     "execution_count": 14,
     "metadata": {},
     "output_type": "execute_result"
    }
   ],
   "source": [
    "# turn data frame into dictionary\n",
    "df[cat + num].iloc[:10].to_dict(orient='records')"
   ]
  },
  {
   "cell_type": "code",
   "execution_count": 15,
   "metadata": {},
   "outputs": [],
   "source": [
    "train_dict = df[cat + num].to_dict(orient='records')"
   ]
  },
  {
   "cell_type": "code",
   "execution_count": 16,
   "metadata": {},
   "outputs": [
    {
     "data": {
      "text/plain": [
       "<73908x507 sparse matrix of type '<class 'numpy.float64'>'\n",
       "\twith 221724 stored elements in Compressed Sparse Row format>"
      ]
     },
     "execution_count": 16,
     "metadata": {},
     "output_type": "execute_result"
    }
   ],
   "source": [
    "dv = DictVectorizer()\n",
    "X_train = dv.fit_transform(train_dict)\n",
    "X_train"
   ]
  },
  {
   "cell_type": "code",
   "execution_count": 17,
   "metadata": {},
   "outputs": [
    {
     "data": {
      "text/plain": [
       "['DOLocationID=1',\n",
       " 'DOLocationID=10',\n",
       " 'DOLocationID=100',\n",
       " 'DOLocationID=101',\n",
       " 'DOLocationID=102']"
      ]
     },
     "execution_count": 17,
     "metadata": {},
     "output_type": "execute_result"
    }
   ],
   "source": [
    "dv.feature_names_[:5]"
   ]
  },
  {
   "cell_type": "code",
   "execution_count": 18,
   "metadata": {},
   "outputs": [
    {
     "data": {
      "text/plain": [
       "array([ 3.93333333,  8.75      ,  5.96666667, ..., 11.        ,\n",
       "       27.        , 10.        ])"
      ]
     },
     "execution_count": 18,
     "metadata": {},
     "output_type": "execute_result"
    }
   ],
   "source": [
    "target =  'duration'\n",
    "y_train = df[target].values\n",
    "y_train"
   ]
  },
  {
   "cell_type": "markdown",
   "metadata": {},
   "source": [
    "## Baseline Model"
   ]
  },
  {
   "cell_type": "code",
   "execution_count": 19,
   "metadata": {},
   "outputs": [
    {
     "data": {
      "text/plain": [
       "LinearRegression()"
      ]
     },
     "execution_count": 19,
     "metadata": {},
     "output_type": "execute_result"
    }
   ],
   "source": [
    "lr = LinearRegression()\n",
    "lr.fit(X_train, y_train)"
   ]
  },
  {
   "cell_type": "code",
   "execution_count": 20,
   "metadata": {},
   "outputs": [],
   "source": [
    "y_pred = lr.predict(X_train)"
   ]
  },
  {
   "cell_type": "code",
   "execution_count": 21,
   "metadata": {},
   "outputs": [
    {
     "data": {
      "text/plain": [
       "<AxesSubplot:ylabel='Count'>"
      ]
     },
     "execution_count": 21,
     "metadata": {},
     "output_type": "execute_result"
    },
    {
     "data": {
      "image/png": "[encoded data removed]",
      "text/plain": [
       "<Figure size 432x288 with 1 Axes>"
      ]
     },
     "metadata": {
      "needs_background": "light"
     },
     "output_type": "display_data"
    }
   ],
   "source": [
    "sns.histplot(y_train, label='train', kde=True, color='blue')\n",
    "sns.histplot(y_pred, label='prediction', kde=True, color='red')"
   ]
  },
  {
   "cell_type": "code",
   "execution_count": 22,
   "metadata": {},
   "outputs": [
    {
     "data": {
      "text/plain": [
       "9.775463820547285"
      ]
     },
     "execution_count": 22,
     "metadata": {},
     "output_type": "execute_result"
    }
   ],
   "source": [
    "mean_squared_error(y_train, y_pred, squared=False)"
   ]
  },
  {
   "cell_type": "markdown",
   "metadata": {},
   "source": [
    "our model is wrong on average by 9.77 minutes"
   ]
  },
  {
   "cell_type": "code",
   "execution_count": 40,
   "metadata": {},
   "outputs": [],
   "source": [
    "def read_preprocess(file_name) -> pd.DataFrame:\n",
    "\n",
    "    df = pd.read_parquet(file_name)\n",
    "    \n",
    "    # parse dates\n",
    "    df.lpep_dropoff_datetime = pd.to_datetime(df.lpep_dropoff_datetime)\n",
    "    df.lpep_pickup_datetime = pd.to_datetime(df.lpep_pickup_datetime)\n",
    "\n",
    "    # get trip duration\n",
    "    df['duration'] = df.lpep_dropoff_datetime - df.lpep_pickup_datetime\n",
    "    df.duration = df.duration.apply(lambda x : x.total_seconds() / 60)\n",
    "\n",
    "    df = df.loc[(df.duration >= 1) & (df.duration <= 60)]\n",
    "\n",
    "    cat = ['PULocationID', 'DOLocationID']\n",
    "    df[cat] = df[cat].astype(str)\n",
    "\n",
    "    df['PU_DO'] = df['PULocationID'] + '_' + df['DOLocationID']\n",
    "\n",
    "    return df"
   ]
  },
  {
   "cell_type": "markdown",
   "metadata": {},
   "source": [
    "### use validation dataset"
   ]
  },
  {
   "cell_type": "code",
   "execution_count": 51,
   "metadata": {},
   "outputs": [
    {
     "data": {
      "text/plain": [
       "(73908, 61921)"
      ]
     },
     "execution_count": 51,
     "metadata": {},
     "output_type": "execute_result"
    }
   ],
   "source": [
    "df_train = read_preprocess(\"data/green_jan_2021.parquet\")\n",
    "df_val = read_preprocess(\"data/green_feb_2021.parquet\")\n",
    "\n",
    "len(df_train), len(df_val)"
   ]
  },
  {
   "cell_type": "code",
   "execution_count": 52,
   "metadata": {},
   "outputs": [],
   "source": [
    "# cat = ['PULocationID', 'DOLocationID']\n",
    "cat = ['PU_DO']\n",
    "num = ['trip_distance']\n",
    "\n",
    "dv = DictVectorizer()\n",
    "\n",
    "train_dict = df_train[cat + num].to_dict(orient='records')\n",
    "X_train = dv.fit_transform(train_dict)\n",
    "\n",
    "val_dict = df_val[cat + num].to_dict(orient='records')\n",
    "X_val = dv.transform(val_dict)"
   ]
  },
  {
   "cell_type": "code",
   "execution_count": 55,
   "metadata": {},
   "outputs": [],
   "source": [
    "target =  'duration'\n",
    "y_train = df_train[target].values\n",
    "y_val = df_val[target].values"
   ]
  },
  {
   "cell_type": "code",
   "execution_count": 62,
   "metadata": {},
   "outputs": [
    {
     "data": {
      "text/plain": [
       "7.479618227604778"
      ]
     },
     "execution_count": 62,
     "metadata": {},
     "output_type": "execute_result"
    }
   ],
   "source": [
    "lr = LinearRegression()\n",
    "lr.fit(X_train, y_train)\n",
    "\n",
    "y_pred = lr.predict(X_val)\n",
    "mean_squared_error(y_val, y_pred, squared=False)"
   ]
  },
  {
   "cell_type": "code",
   "execution_count": 63,
   "metadata": {},
   "outputs": [
    {
     "data": {
      "text/plain": [
       "9.233436225720547"
      ]
     },
     "execution_count": 63,
     "metadata": {},
     "output_type": "execute_result"
    }
   ],
   "source": [
    "lr_lasso = Lasso(alpha=0.001)\n",
    "lr_lasso.fit(X_train, y_train)\n",
    "\n",
    "y_pred = lr_lasso.predict(X_val)\n",
    "mean_squared_error(y_val, y_pred, squared=False)"
   ]
  },
  {
   "cell_type": "code",
   "execution_count": 64,
   "metadata": {},
   "outputs": [
    {
     "data": {
      "text/plain": [
       "11.342565604854506"
      ]
     },
     "execution_count": 64,
     "metadata": {},
     "output_type": "execute_result"
    }
   ],
   "source": [
    "lr_ridge = Ridge(alpha=0.001)\n",
    "lr_ridge.fit(X_train, y_train)\n",
    "\n",
    "y_pred = lr_ridge.predict(X_val)\n",
    "mean_squared_error(y_val, y_pred, squared=False)"
   ]
  },
  {
   "cell_type": "markdown",
   "metadata": {},
   "source": [
    "## save model"
   ]
  },
  {
   "cell_type": "code",
   "execution_count": 66,
   "metadata": {},
   "outputs": [],
   "source": [
    "with open('models/lin_reg.bin', 'wb') as f_out:\n",
    "    pickle.dump((dv, lr), f_out)"
   ]
  }
 ],
 "metadata": {
  "kernelspec": {
   "display_name": "Python 3.9.12 ('base')",
   "language": "python",
   "name": "python3"
  },
  "language_info": {
   "codemirror_mode": {
    "name": "ipython",
    "version": 3
   },
   "file_extension": ".py",
   "mimetype": "text/x-python",
   "name": "python",
   "nbconvert_exporter": "python",
   "pygments_lexer": "ipython3",
   "version": "3.9.12"
  },
  "orig_nbformat": 4,
  "vscode": {
   "interpreter": {
    "hash": "cf857926e5a62348ade35f233631233a08c56bbca7fd7cd6e6db179bbe6dfce3"
   }
  }
 },
 "nbformat": 4,
 "nbformat_minor": 2
}
