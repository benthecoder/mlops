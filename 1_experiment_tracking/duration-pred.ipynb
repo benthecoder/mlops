{
 "cells": [
  {
   "cell_type": "code",
   "execution_count": 3,
   "metadata": {},
   "outputs": [],
   "source": [
    "import pandas as pd\n",
    "import seaborn as sns\n",
    "import matplotlib.pyplot as plt\n",
    "\n",
    "from sklearn.feature_extraction import DictVectorizer\n",
    "from sklearn.linear_model import LinearRegression, Lasso, Ridge\n",
    "\n",
    "from sklearn.metrics import mean_squared_error\n",
    "\n",
    "import pickle"
   ]
  },
  {
   "cell_type": "code",
   "execution_count": 1,
   "metadata": {},
   "outputs": [
    {
     "name": "stderr",
     "output_type": "stream",
     "text": [
      "2022/09/04 22:19:22 INFO mlflow.tracking.fluent: Experiment with name 'nyc-taxi-experiment' does not exist. Creating a new experiment.\n"
     ]
    },
    {
     "data": {
      "text/plain": [
       "<Experiment: artifact_location='./mlruns/1', experiment_id='1', lifecycle_stage='active', name='nyc-taxi-experiment', tags={}>"
      ]
     },
     "execution_count": 1,
     "metadata": {},
     "output_type": "execute_result"
    }
   ],
   "source": [
    "import mlflow\n",
    "\n",
    "mlflow.set_tracking_uri('sqlite:///mlflow.db')\n",
    "mlflow.set_experiment(\"nyc-taxi-experiment\")"
   ]
  },
  {
   "cell_type": "code",
   "execution_count": 4,
   "metadata": {},
   "outputs": [],
   "source": [
    "def read_preprocess(file_name) -> pd.DataFrame:\n",
    "\n",
    "    df = pd.read_parquet(file_name)\n",
    "    \n",
    "    # parse dates\n",
    "    df.lpep_dropoff_datetime = pd.to_datetime(df.lpep_dropoff_datetime)\n",
    "    df.lpep_pickup_datetime = pd.to_datetime(df.lpep_pickup_datetime)\n",
    "\n",
    "    # get trip duration\n",
    "    df['duration'] = df.lpep_dropoff_datetime - df.lpep_pickup_datetime\n",
    "    df.duration = df.duration.apply(lambda x : x.total_seconds() / 60)\n",
    "\n",
    "    df = df.loc[(df.duration >= 1) & (df.duration <= 60)]\n",
    "\n",
    "    cat = ['PULocationID', 'DOLocationID']\n",
    "    df[cat] = df[cat].astype(str)\n",
    "\n",
    "    df['PU_DO'] = df['PULocationID'] + '_' + df['DOLocationID']\n",
    "\n",
    "    return df"
   ]
  },
  {
   "cell_type": "code",
   "execution_count": 5,
   "metadata": {},
   "outputs": [
    {
     "data": {
      "text/plain": [
       "(73908, 61921)"
      ]
     },
     "execution_count": 5,
     "metadata": {},
     "output_type": "execute_result"
    }
   ],
   "source": [
    "df_train = read_preprocess(\"data/green_jan_2021.parquet\")\n",
    "df_val = read_preprocess(\"data/green_feb_2021.parquet\")\n",
    "\n",
    "len(df_train), len(df_val)"
   ]
  },
  {
   "cell_type": "code",
   "execution_count": 6,
   "metadata": {},
   "outputs": [],
   "source": [
    "# cat = ['PULocationID', 'DOLocationID']\n",
    "cat = ['PU_DO']\n",
    "num = ['trip_distance']\n",
    "\n",
    "dv = DictVectorizer()\n",
    "\n",
    "train_dict = df_train[cat + num].to_dict(orient='records')\n",
    "X_train = dv.fit_transform(train_dict)\n",
    "\n",
    "val_dict = df_val[cat + num].to_dict(orient='records')\n",
    "X_val = dv.transform(val_dict)"
   ]
  },
  {
   "cell_type": "code",
   "execution_count": 7,
   "metadata": {},
   "outputs": [],
   "source": [
    "target =  'duration'\n",
    "y_train = df_train[target].values\n",
    "y_val = df_val[target].values"
   ]
  },
  {
   "cell_type": "code",
   "execution_count": 8,
   "metadata": {},
   "outputs": [
    {
     "data": {
      "text/plain": [
       "7.758715199477344"
      ]
     },
     "execution_count": 8,
     "metadata": {},
     "output_type": "execute_result"
    }
   ],
   "source": [
    "lr = LinearRegression()\n",
    "lr.fit(X_train, y_train)\n",
    "\n",
    "y_pred = lr.predict(X_val)\n",
    "mean_squared_error(y_val, y_pred, squared=False)"
   ]
  },
  {
   "cell_type": "code",
   "execution_count": 22,
   "metadata": {},
   "outputs": [],
   "source": [
    "# start an experiment\n",
    "with mlflow.start_run():\n",
    "\n",
    "    # create tag\n",
    "    mlflow.set_tag(\"developer\", \"benedict\")\n",
    "\n",
    "    # log dataset used\n",
    "    mlflow.log_param(\"train-data-path\", \"data/green_jan_2021.parquet\")\n",
    "    mlflow.log_param(\"valid-data-path\", \"data/green_feb_2021.parquet\")\n",
    "    \n",
    "    alpha = 0.1\n",
    "    mlflow.log_param(\"alpha\", alpha)\n",
    "\n",
    "    lr_lasso = Lasso(alpha)\n",
    "    lr_lasso.fit(X_train, y_train)\n",
    "\n",
    "    y_pred = lr_lasso.predict(X_val)\n",
    "\n",
    "    rmse = mean_squared_error(y_val, y_pred, squared=False)\n",
    "\n",
    "    mlflow.log_metric(\"rmse\", rmse)\n",
    "\n",
    "    # save model\n",
    "    mlflow.log_artifact(local_path = \"models/lin_reg.bin\", artifact_path=\"file_path\")"
   ]
  },
  {
   "cell_type": "code",
   "execution_count": 64,
   "metadata": {},
   "outputs": [
    {
     "data": {
      "text/plain": [
       "11.342565604854506"
      ]
     },
     "execution_count": 64,
     "metadata": {},
     "output_type": "execute_result"
    }
   ],
   "source": [
    "lr_ridge = Ridge(alpha=0.001)\n",
    "lr_ridge.fit(X_train, y_train)\n",
    "\n",
    "y_pred = lr_ridge.predict(X_val)\n",
    "mean_squared_error(y_val, y_pred, squared=False)"
   ]
  },
  {
   "cell_type": "markdown",
   "metadata": {},
   "source": [
    "## xgboost hyperparameter tracking"
   ]
  },
  {
   "cell_type": "code",
   "execution_count": 13,
   "metadata": {},
   "outputs": [],
   "source": [
    "import xgboost as xgb\n",
    "\n",
    "from hyperopt import fmin, tpe, hp, STATUS_OK, Trials\n",
    "# fmin - function used to minimize\n",
    "# tpe - algorithm used\n",
    "# hp - define search space\n",
    "# Trials - keep track of info from each rone\n",
    "\n",
    "from hyperopt.pyll import scope # define range of type int"
   ]
  },
  {
   "cell_type": "code",
   "execution_count": 14,
   "metadata": {},
   "outputs": [],
   "source": [
    "train = xgb.DMatrix(X_train, label=y_train)\n",
    "valid = xgb.DMatrix(X_val, label=y_val)"
   ]
  },
  {
   "cell_type": "code",
   "execution_count": 15,
   "metadata": {},
   "outputs": [],
   "source": [
    "def objective(params):\n",
    "\n",
    "    with mlflow.start_run():\n",
    "        mlflow.set_tag(\"model\", \"xgboost\")\n",
    "        mlflow.log_params(params)\n",
    "        booster = xgb.train(\n",
    "            params=params,\n",
    "            dtrain=train,\n",
    "            num_boost_round=1000, # iterations of booster\n",
    "            evals=[(valid, 'validation')],\n",
    "            early_stopping_rounds=50 # if >50 iterations without improvement\n",
    "        )\n",
    "        y_pred = booster.predict(valid)\n",
    "        rmse = mean_squared_error(y_val, y_pred, squared=False)\n",
    "        mlflow.log_metric(\"rmse\", rmse)\n",
    "\n",
    "    return {'loss': rmse, 'status': STATUS_OK}"
   ]
  },
  {
   "cell_type": "code",
   "execution_count": null,
   "metadata": {},
   "outputs": [],
   "source": [
    "# ranges for hyperopt to explore\n",
    "search_space = {\n",
    "    'max_depth': scope.int(hp.quniform('max_depth', 4, 100, 1)),\n",
    "    'learning_rate': hp.loguniform('learning_rate', -3, 0), # exp(-3) to exp(0) = [0.05, 1]\n",
    "    'reg_alpha': hp.loguniform('reg_alpha', -5, -1),\n",
    "    'reg_lambda': hp.loguniform('reg_lambda', -6, -1),\n",
    "    'min_child_weight': hp.loguniform('min_child_weight', -1, 3),\n",
    "    'objective': 'reg:squarederror',\n",
    "    'seed': 42\n",
    "}\n",
    "\n",
    "best_result = fmin(\n",
    "    fn=objective,\n",
    "    space=search_space,\n",
    "    algo=tpe.suggest,\n",
    "    max_evals=50,\n",
    "    trials=Trials()\n",
    ")"
   ]
  },
  {
   "cell_type": "markdown",
   "metadata": {},
   "source": [
    "## autolog"
   ]
  },
  {
   "cell_type": "code",
   "execution_count": 17,
   "metadata": {},
   "outputs": [
    {
     "name": "stderr",
     "output_type": "stream",
     "text": [
      "2022/09/04 22:47:16 WARNING mlflow.utils.autologging_utils: You are using an unsupported version of xgboost. If you encounter errors during autologging, try upgrading / downgrading xgboost to a supported version, or try upgrading MLflow.\n",
      "2022/09/04 22:47:16 INFO mlflow.utils.autologging_utils: Created MLflow autologging run with ID 'c32371d4f1c844cd8bc24735e88ba30d', which will track hyperparameters, performance metrics, model artifacts, and lineage information for the current xgboost workflow\n"
     ]
    },
    {
     "name": "stdout",
     "output_type": "stream",
     "text": [
      "[22:47:16] WARNING: ../src/objective/regression_obj.cu:203: reg:linear is now deprecated in favor of reg:squarederror.\n",
      "[0]\tvalidation-rmse:19.89248\n",
      "[1]\tvalidation-rmse:18.69612\n",
      "[2]\tvalidation-rmse:17.59588\n",
      "[3]\tvalidation-rmse:16.58601\n",
      "[4]\tvalidation-rmse:15.65949\n",
      "[5]\tvalidation-rmse:14.81043\n",
      "[6]\tvalidation-rmse:14.03377\n",
      "[7]\tvalidation-rmse:13.32330\n",
      "[8]\tvalidation-rmse:12.67540\n",
      "[9]\tvalidation-rmse:12.08520\n",
      "[10]\tvalidation-rmse:11.54795\n",
      "[11]\tvalidation-rmse:11.05983\n",
      "[12]\tvalidation-rmse:10.61690\n",
      "[13]\tvalidation-rmse:10.21670\n",
      "[14]\tvalidation-rmse:9.85482\n",
      "[15]\tvalidation-rmse:9.52734\n",
      "[16]\tvalidation-rmse:9.23261\n",
      "[17]\tvalidation-rmse:8.96679\n",
      "[18]\tvalidation-rmse:8.72826\n",
      "[19]\tvalidation-rmse:8.51350\n",
      "[20]\tvalidation-rmse:8.32006\n",
      "[21]\tvalidation-rmse:8.14808\n",
      "[22]\tvalidation-rmse:7.99355\n",
      "[23]\tvalidation-rmse:7.85426\n",
      "[24]\tvalidation-rmse:7.72919\n",
      "[25]\tvalidation-rmse:7.61786\n",
      "[26]\tvalidation-rmse:7.51845\n",
      "[27]\tvalidation-rmse:7.42976\n",
      "[28]\tvalidation-rmse:7.35036\n",
      "[29]\tvalidation-rmse:7.27912\n",
      "[30]\tvalidation-rmse:7.21489\n",
      "[31]\tvalidation-rmse:7.15766\n",
      "[32]\tvalidation-rmse:7.10565\n",
      "[33]\tvalidation-rmse:7.05918\n",
      "[34]\tvalidation-rmse:7.01626\n",
      "[35]\tvalidation-rmse:6.97839\n",
      "[36]\tvalidation-rmse:6.94443\n",
      "[37]\tvalidation-rmse:6.91278\n",
      "[38]\tvalidation-rmse:6.88449\n",
      "[39]\tvalidation-rmse:6.85878\n",
      "[40]\tvalidation-rmse:6.83493\n",
      "[41]\tvalidation-rmse:6.81390\n",
      "[42]\tvalidation-rmse:6.79393\n",
      "[43]\tvalidation-rmse:6.77665\n",
      "[44]\tvalidation-rmse:6.75994\n",
      "[45]\tvalidation-rmse:6.74594\n",
      "[46]\tvalidation-rmse:6.73191\n",
      "[47]\tvalidation-rmse:6.72005\n",
      "[48]\tvalidation-rmse:6.70854\n",
      "[49]\tvalidation-rmse:6.69845\n",
      "[50]\tvalidation-rmse:6.68944\n",
      "[51]\tvalidation-rmse:6.68059\n",
      "[52]\tvalidation-rmse:6.67275\n",
      "[53]\tvalidation-rmse:6.66532\n",
      "[54]\tvalidation-rmse:6.65851\n",
      "[55]\tvalidation-rmse:6.65243\n",
      "[56]\tvalidation-rmse:6.64641\n",
      "[57]\tvalidation-rmse:6.64113\n",
      "[58]\tvalidation-rmse:6.63584\n",
      "[59]\tvalidation-rmse:6.63079\n",
      "[60]\tvalidation-rmse:6.62591\n",
      "[61]\tvalidation-rmse:6.62102\n",
      "[62]\tvalidation-rmse:6.61718\n",
      "[63]\tvalidation-rmse:6.61354\n",
      "[64]\tvalidation-rmse:6.61009\n",
      "[65]\tvalidation-rmse:6.60712\n",
      "[66]\tvalidation-rmse:6.60433\n",
      "[67]\tvalidation-rmse:6.60122\n",
      "[68]\tvalidation-rmse:6.59861\n",
      "[69]\tvalidation-rmse:6.59620\n",
      "[70]\tvalidation-rmse:6.59408\n",
      "[71]\tvalidation-rmse:6.59174\n",
      "[72]\tvalidation-rmse:6.58989\n",
      "[73]\tvalidation-rmse:6.58793\n",
      "[74]\tvalidation-rmse:6.58625\n",
      "[75]\tvalidation-rmse:6.58481\n",
      "[76]\tvalidation-rmse:6.58321\n",
      "[77]\tvalidation-rmse:6.58196\n",
      "[78]\tvalidation-rmse:6.58062\n",
      "[79]\tvalidation-rmse:6.57942\n",
      "[80]\tvalidation-rmse:6.57772\n",
      "[81]\tvalidation-rmse:6.57683\n",
      "[82]\tvalidation-rmse:6.57537\n",
      "[83]\tvalidation-rmse:6.57409\n",
      "[84]\tvalidation-rmse:6.57312\n",
      "[85]\tvalidation-rmse:6.57184\n",
      "[86]\tvalidation-rmse:6.57101\n",
      "[87]\tvalidation-rmse:6.57013\n",
      "[88]\tvalidation-rmse:6.56934\n",
      "[89]\tvalidation-rmse:6.56823\n",
      "[90]\tvalidation-rmse:6.56761\n",
      "[91]\tvalidation-rmse:6.56685\n",
      "[92]\tvalidation-rmse:6.56595\n",
      "[93]\tvalidation-rmse:6.56538\n",
      "[94]\tvalidation-rmse:6.56452\n",
      "[95]\tvalidation-rmse:6.56385\n",
      "[96]\tvalidation-rmse:6.56330\n",
      "[97]\tvalidation-rmse:6.56280\n",
      "[98]\tvalidation-rmse:6.56239\n",
      "[99]\tvalidation-rmse:6.56208\n"
     ]
    },
    {
     "name": "stderr",
     "output_type": "stream",
     "text": [
      "2022/09/04 22:47:50 WARNING mlflow.xgboost: Failed to infer model signature: could not sample data to infer model signature: please ensure that autologging is enabled before constructing the dataset.\n",
      "2022/09/04 22:47:52 WARNING mlflow.utils.autologging_utils: MLflow autologging encountered a warning: \"/home/ubuntu/anaconda3/envs/mlflow_env/lib/python3.9/site-packages/_distutils_hack/__init__.py:33: UserWarning: Setuptools is replacing distutils.\"\n"
     ]
    },
    {
     "data": {
      "text/plain": [
       "<xgboost.core.Booster at 0x7f6f4ba804f0>"
      ]
     },
     "execution_count": 17,
     "metadata": {},
     "output_type": "execute_result"
    }
   ],
   "source": [
    "mlflow.xgboost.autolog()\n",
    "\n",
    "params = {\n",
    "    \"learning_rate\": 0.07278314034839226,\n",
    "    \"max_depth\": 73,\n",
    "    \"min_child_weight\": 5.004368122639275,\n",
    "    \"objective\": \"reg:linear\",\n",
    "    \"reg_alpha\": 0.0632094630338191,\n",
    "    \"reg_lambda\": 0.0030308745502548133,\n",
    "    \"seed\": 42,\n",
    "}\n",
    "\n",
    "\n",
    "xgb.train(\n",
    "    params = params,\n",
    "    dtrain = train,\n",
    "    num_boost_round = 100,\n",
    "    evals = [(valid, \"validation\")],\n",
    "    early_stopping_rounds=50\n",
    ")"
   ]
  },
  {
   "cell_type": "markdown",
   "metadata": {},
   "source": [
    "## model logging"
   ]
  },
  {
   "cell_type": "code",
   "execution_count": 24,
   "metadata": {},
   "outputs": [
    {
     "name": "stdout",
     "output_type": "stream",
     "text": [
      "[23:25:27] WARNING: ../src/objective/regression_obj.cu:203: reg:linear is now deprecated in favor of reg:squarederror.\n",
      "[0]\tvalidation-rmse:19.89248\n",
      "[1]\tvalidation-rmse:18.69612\n",
      "[2]\tvalidation-rmse:17.59588\n",
      "[3]\tvalidation-rmse:16.58601\n",
      "[4]\tvalidation-rmse:15.65949\n",
      "[5]\tvalidation-rmse:14.81043\n",
      "[6]\tvalidation-rmse:14.03377\n",
      "[7]\tvalidation-rmse:13.32330\n",
      "[8]\tvalidation-rmse:12.67540\n",
      "[9]\tvalidation-rmse:12.08520\n",
      "[10]\tvalidation-rmse:11.54795\n",
      "[11]\tvalidation-rmse:11.05983\n",
      "[12]\tvalidation-rmse:10.61690\n",
      "[13]\tvalidation-rmse:10.21670\n",
      "[14]\tvalidation-rmse:9.85482\n",
      "[15]\tvalidation-rmse:9.52734\n",
      "[16]\tvalidation-rmse:9.23261\n",
      "[17]\tvalidation-rmse:8.96679\n",
      "[18]\tvalidation-rmse:8.72826\n",
      "[19]\tvalidation-rmse:8.51350\n",
      "[20]\tvalidation-rmse:8.32006\n",
      "[21]\tvalidation-rmse:8.14808\n",
      "[22]\tvalidation-rmse:7.99355\n",
      "[23]\tvalidation-rmse:7.85426\n",
      "[24]\tvalidation-rmse:7.72919\n",
      "[25]\tvalidation-rmse:7.61786\n",
      "[26]\tvalidation-rmse:7.51845\n",
      "[27]\tvalidation-rmse:7.42976\n",
      "[28]\tvalidation-rmse:7.35036\n",
      "[29]\tvalidation-rmse:7.27912\n",
      "[30]\tvalidation-rmse:7.21489\n",
      "[31]\tvalidation-rmse:7.15766\n",
      "[32]\tvalidation-rmse:7.10565\n",
      "[33]\tvalidation-rmse:7.05918\n",
      "[34]\tvalidation-rmse:7.01626\n",
      "[35]\tvalidation-rmse:6.97839\n",
      "[36]\tvalidation-rmse:6.94443\n",
      "[37]\tvalidation-rmse:6.91278\n",
      "[38]\tvalidation-rmse:6.88449\n",
      "[39]\tvalidation-rmse:6.85878\n",
      "[40]\tvalidation-rmse:6.83493\n",
      "[41]\tvalidation-rmse:6.81390\n",
      "[42]\tvalidation-rmse:6.79393\n",
      "[43]\tvalidation-rmse:6.77665\n",
      "[44]\tvalidation-rmse:6.75994\n",
      "[45]\tvalidation-rmse:6.74594\n",
      "[46]\tvalidation-rmse:6.73191\n",
      "[47]\tvalidation-rmse:6.72005\n",
      "[48]\tvalidation-rmse:6.70854\n",
      "[49]\tvalidation-rmse:6.69845\n",
      "[50]\tvalidation-rmse:6.68944\n",
      "[51]\tvalidation-rmse:6.68059\n",
      "[52]\tvalidation-rmse:6.67275\n",
      "[53]\tvalidation-rmse:6.66532\n",
      "[54]\tvalidation-rmse:6.65851\n",
      "[55]\tvalidation-rmse:6.65243\n",
      "[56]\tvalidation-rmse:6.64641\n",
      "[57]\tvalidation-rmse:6.64113\n",
      "[58]\tvalidation-rmse:6.63584\n",
      "[59]\tvalidation-rmse:6.63079\n",
      "[60]\tvalidation-rmse:6.62591\n",
      "[61]\tvalidation-rmse:6.62102\n",
      "[62]\tvalidation-rmse:6.61718\n",
      "[63]\tvalidation-rmse:6.61354\n",
      "[64]\tvalidation-rmse:6.61009\n",
      "[65]\tvalidation-rmse:6.60712\n",
      "[66]\tvalidation-rmse:6.60433\n",
      "[67]\tvalidation-rmse:6.60122\n",
      "[68]\tvalidation-rmse:6.59861\n",
      "[69]\tvalidation-rmse:6.59620\n",
      "[70]\tvalidation-rmse:6.59408\n",
      "[71]\tvalidation-rmse:6.59174\n",
      "[72]\tvalidation-rmse:6.58989\n",
      "[73]\tvalidation-rmse:6.58793\n",
      "[74]\tvalidation-rmse:6.58625\n",
      "[75]\tvalidation-rmse:6.58481\n",
      "[76]\tvalidation-rmse:6.58321\n",
      "[77]\tvalidation-rmse:6.58196\n",
      "[78]\tvalidation-rmse:6.58062\n",
      "[79]\tvalidation-rmse:6.57942\n",
      "[80]\tvalidation-rmse:6.57772\n",
      "[81]\tvalidation-rmse:6.57683\n",
      "[82]\tvalidation-rmse:6.57537\n",
      "[83]\tvalidation-rmse:6.57409\n",
      "[84]\tvalidation-rmse:6.57312\n",
      "[85]\tvalidation-rmse:6.57184\n",
      "[86]\tvalidation-rmse:6.57101\n",
      "[87]\tvalidation-rmse:6.57013\n",
      "[88]\tvalidation-rmse:6.56934\n",
      "[89]\tvalidation-rmse:6.56823\n",
      "[90]\tvalidation-rmse:6.56761\n",
      "[91]\tvalidation-rmse:6.56685\n",
      "[92]\tvalidation-rmse:6.56595\n",
      "[93]\tvalidation-rmse:6.56538\n",
      "[94]\tvalidation-rmse:6.56452\n",
      "[95]\tvalidation-rmse:6.56385\n",
      "[96]\tvalidation-rmse:6.56330\n",
      "[97]\tvalidation-rmse:6.56280\n",
      "[98]\tvalidation-rmse:6.56239\n",
      "[99]\tvalidation-rmse:6.56208\n"
     ]
    }
   ],
   "source": [
    "mlflow.xgboost.autolog(disable=True)\n",
    "\n",
    "with mlflow.start_run():\n",
    "    params = {\n",
    "        \"learning_rate\": 0.07278314034839226,\n",
    "        \"max_depth\": 73,\n",
    "        \"min_child_weight\": 5.004368122639275,\n",
    "        \"objective\": \"reg:linear\",\n",
    "        \"reg_alpha\": 0.0632094630338191,\n",
    "        \"reg_lambda\": 0.0030308745502548133,\n",
    "        \"seed\": 42,\n",
    "    }\n",
    "\n",
    "    mlflow.log_params(params)\n",
    "\n",
    "    booster = xgb.train(\n",
    "        params = params,\n",
    "        dtrain = train,\n",
    "        num_boost_round = 100,\n",
    "        evals = [(valid, \"validation\")],\n",
    "        early_stopping_rounds=50\n",
    "    )\n",
    "\n",
    "    y_pred = booster.predict(valid)\n",
    "    rmse = mean_squared_error(y_val, y_pred, squared=False)\n",
    "    mlflow.log_metric(\"rmse\", rmse)\n",
    "    \n",
    "    with open(\"models/preprocessor.b\", \"wb\") as f_out:\n",
    "        pickle.dump(dv, f_out)\n",
    "        \n",
    "    mlflow.log_artifact(\"models/preprocessor.b\", artifact_path = \"preprocessor\")\n",
    "    mlflow.xgboost.log_model(booster, artifact_path = \"models_mlflow\")"
   ]
  },
  {
   "cell_type": "markdown",
   "metadata": {},
   "source": [
    "## load model"
   ]
  },
  {
   "cell_type": "code",
   "execution_count": 25,
   "metadata": {},
   "outputs": [
    {
     "name": "stdout",
     "output_type": "stream",
     "text": [
      "[23:26:59] WARNING: ../src/objective/regression_obj.cu:203: reg:linear is now deprecated in favor of reg:squarederror.\n"
     ]
    }
   ],
   "source": [
    "import mlflow\n",
    "logged_model = 'runs:/272a28f2395e4d75ae627a85fdd8cb90/models_mlflow'\n",
    "\n",
    "# Load model as a PyFuncModel.\n",
    "loaded_model = mlflow.pyfunc.load_model(logged_model)"
   ]
  },
  {
   "cell_type": "code",
   "execution_count": 26,
   "metadata": {},
   "outputs": [
    {
     "data": {
      "text/plain": [
       "mlflow.pyfunc.loaded_model:\n",
       "  artifact_path: models_mlflow\n",
       "  flavor: mlflow.xgboost\n",
       "  run_id: 272a28f2395e4d75ae627a85fdd8cb90"
      ]
     },
     "execution_count": 26,
     "metadata": {},
     "output_type": "execute_result"
    }
   ],
   "source": [
    "loaded_model"
   ]
  },
  {
   "cell_type": "code",
   "execution_count": 27,
   "metadata": {},
   "outputs": [
    {
     "name": "stdout",
     "output_type": "stream",
     "text": [
      "[23:27:37] WARNING: ../src/objective/regression_obj.cu:203: reg:linear is now deprecated in favor of reg:squarederror.\n"
     ]
    }
   ],
   "source": [
    "xgboost_model = mlflow.xgboost.load_model(logged_model)"
   ]
  },
  {
   "cell_type": "code",
   "execution_count": 28,
   "metadata": {},
   "outputs": [],
   "source": [
    "y_pred = xgboost_model.predict(valid)"
   ]
  },
  {
   "cell_type": "code",
   "execution_count": 29,
   "metadata": {},
   "outputs": [
    {
     "data": {
      "text/plain": [
       "array([14.753914,  6.77946 , 15.48373 , 25.64809 ,  9.230557, 17.196167,\n",
       "       12.552075,  8.765083,  9.357581, 20.37567 ], dtype=float32)"
      ]
     },
     "execution_count": 29,
     "metadata": {},
     "output_type": "execute_result"
    }
   ],
   "source": [
    "y_pred[:10]"
   ]
  },
  {
   "cell_type": "code",
   "execution_count": null,
   "metadata": {},
   "outputs": [],
   "source": []
  }
 ],
 "metadata": {
  "kernelspec": {
   "display_name": "Python 3.9.13 ('mlflow_env')",
   "language": "python",
   "name": "python3"
  },
  "language_info": {
   "codemirror_mode": {
    "name": "ipython",
    "version": 3
   },
   "file_extension": ".py",
   "mimetype": "text/x-python",
   "name": "python",
   "nbconvert_exporter": "python",
   "pygments_lexer": "ipython3",
   "version": "3.9.13"
  },
  "orig_nbformat": 4,
  "vscode": {
   "interpreter": {
    "hash": "ef124dc0bf0b8dbc7f2e6d115c86b9c538a35936288cb815e7cc054287d31355"
   }
  }
 },
 "nbformat": 4,
 "nbformat_minor": 2
}
